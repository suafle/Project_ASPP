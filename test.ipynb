{
 "cells": [
  {
   "cell_type": "code",
   "execution_count": 1,
   "metadata": {},
   "outputs": [],
   "source": [
    "import functions.normal.BB as BB\n",
    "import functions.cython.BB as c_BB\n",
    "import numpy as np"
   ]
  },
  {
   "cell_type": "code",
   "execution_count": 2,
   "metadata": {},
   "outputs": [],
   "source": [
    "W1 = np.array([0,0,0,0,0,0])\n",
    "W2 = np.array([0,0,0,0,0,0])\n",
    "W3 = np.array([0,0,0,0,0,0])\n",
    "W4 = np.array([0,0,0,0,0,0])\n",
    "TDS = 300\n",
    "LStar = np.array([1,1,1,1,1,1])\n",
    "eta = 0.9"
   ]
  },
  {
   "cell_type": "markdown",
   "metadata": {},
   "source": [
    "## W1"
   ]
  },
  {
   "cell_type": "code",
   "execution_count": 23,
   "metadata": {},
   "outputs": [
    {
     "name": "stdout",
     "output_type": "stream",
     "text": [
      "[2.44003339 2.44003339 2.44003339 2.44003339 2.44003339 2.44003339]\n",
      "[2.44003339 2.44003339 2.44003339 2.44003339 2.44003339 2.44003339]\n",
      "[2.44003339 2.44003339 2.44003339 2.44003339 2.44003339 2.44003339]\n",
      "[2.44003339 2.44003339 2.44003339 2.44003339 2.44003339 2.44003339]\n",
      "[2.44003339 2.44003339 2.44003339 2.44003339 2.44003339 2.44003339]\n",
      "849 µs ± 233 µs per loop (mean ± std. dev. of 5 runs, 1 loop each)\n"
     ]
    }
   ],
   "source": [
    "%%timeit -n1 -r5\n",
    "print(BB.W1_DS(W1,TDS,LStar,eta))"
   ]
  },
  {
   "cell_type": "code",
   "execution_count": 24,
   "metadata": {},
   "outputs": [
    {
     "name": "stdout",
     "output_type": "stream",
     "text": [
      "[2.44003314 2.44003314 2.44003314 2.44003314 2.44003314 2.44003314]\n",
      "[2.44003314 2.44003314 2.44003314 2.44003314 2.44003314 2.44003314]\n",
      "[2.44003314 2.44003314 2.44003314 2.44003314 2.44003314 2.44003314]\n",
      "[2.44003314 2.44003314 2.44003314 2.44003314 2.44003314 2.44003314]\n",
      "[2.44003314 2.44003314 2.44003314 2.44003314 2.44003314 2.44003314]\n",
      "1.09 ms ± 428 µs per loop (mean ± std. dev. of 5 runs, 1 loop each)\n"
     ]
    }
   ],
   "source": [
    "%%timeit -n1 -r5\n",
    "print(c_BB.W1_DS(W1,TDS,LStar,eta))"
   ]
  },
  {
   "cell_type": "markdown",
   "metadata": {},
   "source": [
    "## W2"
   ]
  },
  {
   "cell_type": "code",
   "execution_count": 13,
   "metadata": {},
   "outputs": [
    {
     "name": "stdout",
     "output_type": "stream",
     "text": [
      "[1.47284467 1.47284467 1.47284467 1.47284467 1.47284467 1.47284467]\n",
      "[1.47284467 1.47284467 1.47284467 1.47284467 1.47284467 1.47284467]\n",
      "[1.47284467 1.47284467 1.47284467 1.47284467 1.47284467 1.47284467]\n",
      "[1.47284467 1.47284467 1.47284467 1.47284467 1.47284467 1.47284467]\n",
      "[1.47284467 1.47284467 1.47284467 1.47284467 1.47284467 1.47284467]\n",
      "787 µs ± 106 µs per loop (mean ± std. dev. of 5 runs, 1 loop each)\n"
     ]
    }
   ],
   "source": [
    "%%timeit -n1 -r5\n",
    "print(BB.W2_DS(W2,TDS,LStar,eta))"
   ]
  },
  {
   "cell_type": "code",
   "execution_count": 14,
   "metadata": {},
   "outputs": [
    {
     "name": "stdout",
     "output_type": "stream",
     "text": [
      "[1.47284459 1.47284459 1.47284459 1.47284459 1.47284459 1.47284459]\n",
      "[1.47284459 1.47284459 1.47284459 1.47284459 1.47284459 1.47284459]\n",
      "[1.47284459 1.47284459 1.47284459 1.47284459 1.47284459 1.47284459]\n",
      "[1.47284459 1.47284459 1.47284459 1.47284459 1.47284459 1.47284459]\n",
      "[1.47284459 1.47284459 1.47284459 1.47284459 1.47284459 1.47284459]\n",
      "1.15 ms ± 482 µs per loop (mean ± std. dev. of 5 runs, 1 loop each)\n"
     ]
    }
   ],
   "source": [
    "%%timeit -n1 -r5\n",
    "print(c_BB.W2_DS(W2,TDS,LStar,eta))"
   ]
  },
  {
   "cell_type": "markdown",
   "metadata": {},
   "source": [
    "## W3"
   ]
  },
  {
   "cell_type": "code",
   "execution_count": 15,
   "metadata": {},
   "outputs": [
    {
     "name": "stdout",
     "output_type": "stream",
     "text": [
      "[-3.50259293 -3.50259293 -3.50259293 -3.50259293 -3.50259293 -3.50259293]\n",
      "[-3.50259293 -3.50259293 -3.50259293 -3.50259293 -3.50259293 -3.50259293]\n",
      "[-3.50259293 -3.50259293 -3.50259293 -3.50259293 -3.50259293 -3.50259293]\n",
      "[-3.50259293 -3.50259293 -3.50259293 -3.50259293 -3.50259293 -3.50259293]\n",
      "[-3.50259293 -3.50259293 -3.50259293 -3.50259293 -3.50259293 -3.50259293]\n",
      "745 µs ± 146 µs per loop (mean ± std. dev. of 5 runs, 1 loop each)\n"
     ]
    }
   ],
   "source": [
    "%%timeit -n1 -r5\n",
    "print(BB.W3_DS(W3,TDS,LStar,eta))"
   ]
  },
  {
   "cell_type": "code",
   "execution_count": 16,
   "metadata": {},
   "outputs": [
    {
     "name": "stdout",
     "output_type": "stream",
     "text": [
      "[-3.50259291 -3.50259291 -3.50259291 -3.50259291 -3.50259291 -3.50259291]\n",
      "[-3.50259291 -3.50259291 -3.50259291 -3.50259291 -3.50259291 -3.50259291]\n",
      "[-3.50259291 -3.50259291 -3.50259291 -3.50259291 -3.50259291 -3.50259291]\n",
      "[-3.50259291 -3.50259291 -3.50259291 -3.50259291 -3.50259291 -3.50259291]\n",
      "[-3.50259291 -3.50259291 -3.50259291 -3.50259291 -3.50259291 -3.50259291]\n",
      "864 µs ± 293 µs per loop (mean ± std. dev. of 5 runs, 1 loop each)\n"
     ]
    }
   ],
   "source": [
    "%%timeit -n1 -r5\n",
    "print(c_BB.W3_DS(W3,TDS,LStar,eta))"
   ]
  },
  {
   "cell_type": "markdown",
   "metadata": {},
   "source": [
    "## W4"
   ]
  },
  {
   "cell_type": "code",
   "execution_count": 17,
   "metadata": {},
   "outputs": [
    {
     "name": "stdout",
     "output_type": "stream",
     "text": [
      "[-5.14894029 -5.14894029 -5.14894029 -5.14894029 -5.14894029 -5.14894029]\n",
      "[-5.14894029 -5.14894029 -5.14894029 -5.14894029 -5.14894029 -5.14894029]\n",
      "[-5.14894029 -5.14894029 -5.14894029 -5.14894029 -5.14894029 -5.14894029]\n",
      "[-5.14894029 -5.14894029 -5.14894029 -5.14894029 -5.14894029 -5.14894029]\n",
      "[-5.14894029 -5.14894029 -5.14894029 -5.14894029 -5.14894029 -5.14894029]\n",
      "777 µs ± 139 µs per loop (mean ± std. dev. of 5 runs, 1 loop each)\n"
     ]
    }
   ],
   "source": [
    "%%timeit -n1 -r5\n",
    "print(BB.W4_DS(W3,TDS,LStar,eta))"
   ]
  },
  {
   "cell_type": "code",
   "execution_count": 18,
   "metadata": {},
   "outputs": [
    {
     "name": "stdout",
     "output_type": "stream",
     "text": [
      "[-5.14894026 -5.14894026 -5.14894026 -5.14894026 -5.14894026 -5.14894026]\n",
      "[-5.14894026 -5.14894026 -5.14894026 -5.14894026 -5.14894026 -5.14894026]\n",
      "[-5.14894026 -5.14894026 -5.14894026 -5.14894026 -5.14894026 -5.14894026]\n",
      "[-5.14894026 -5.14894026 -5.14894026 -5.14894026 -5.14894026 -5.14894026]\n",
      "[-5.14894026 -5.14894026 -5.14894026 -5.14894026 -5.14894026 -5.14894026]\n",
      "762 µs ± 155 µs per loop (mean ± std. dev. of 5 runs, 1 loop each)\n"
     ]
    }
   ],
   "source": [
    "%%timeit -n1 -r5\n",
    "print(c_BB.W4_DS(W3,TDS,LStar,eta))"
   ]
  },
  {
   "cell_type": "code",
   "execution_count": null,
   "metadata": {},
   "outputs": [],
   "source": []
  }
 ],
 "metadata": {
  "kernelspec": {
   "display_name": "Python 3",
   "language": "python",
   "name": "python3"
  },
  "language_info": {
   "codemirror_mode": {
    "name": "ipython",
    "version": 3
   },
   "file_extension": ".py",
   "mimetype": "text/x-python",
   "name": "python",
   "nbconvert_exporter": "python",
   "pygments_lexer": "ipython3",
   "version": "3.8.3"
  }
 },
 "nbformat": 4,
 "nbformat_minor": 4
}
